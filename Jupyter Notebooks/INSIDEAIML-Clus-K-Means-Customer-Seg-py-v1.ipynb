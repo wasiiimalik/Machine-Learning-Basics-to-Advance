{
 "cells": [
  {
   "cell_type": "markdown",
   "metadata": {
    "button": false,
    "new_sheet": false,
    "run_control": {
     "read_only": false
    }
   },
   "source": [
    "## Introduction\n",
    "\n",
    "There are many models for **clustering** out there. In this notebook, we will be presenting the model that is considered one of the simplest models amongst them. Despite its simplicity, the **K-means** is vastly used for clustering in many data science applications, especially useful if you need to quickly discover insights from **unlabeled data**. In this notebook, you will learn how to use k-Means for customer segmentation.\n",
    "\n",
    "Some real-world applications of k-means:\n",
    "- Customer segmentation\n",
    "- Understand what the visitors of a website are trying to accomplish\n",
    "- Pattern recognition\n",
    "- Machine learning\n",
    "- Data compression\n",
    "\n",
    "\n",
    "In this notebook we practice k-means clustering with 2 examples:\n",
    "- k-means on a random generated dataset\n",
    "- Using k-means for customer segmentation"
   ]
  },
  {
   "cell_type": "markdown",
   "metadata": {},
   "source": [
    "<h1>Table of contents</h1>\n",
    "\n",
    "<div class=\"alert alert-block alert-info\" style=\"margin-top: 20px\">\n",
    "    <ul>\n",
    "        <li><a href=\"#random_generated_dataset\">k-Means on a randomly generated dataset</a></li>\n",
    "            <ol>\n",
    "                <li><a href=\"#setting_up_K_means\">Setting up K-Means</a></li>\n",
    "                <li><a href=\"#creating_visual_plot\">Creating the Visual Plot</a></li>\n",
    "            </ol>\n",
    "        <li><a href=\"#customer_segmentation_K_means\">Customer Segmentation with K-Means</a></li>\n",
    "            <ol>\n",
    "                <li><a href=\"#pre_processing\">Pre-processing</a></li>\n",
    "                <li><a href=\"#modeling\">Modeling</a></li>\n",
    "                <li><a href=\"#insights\">Insights</a></li>\n",
    "            </ol>\n",
    "    </ul>\n",
    "</div>\n",
    "<br>\n",
    "<hr>"
   ]
  },
  {
   "cell_type": "markdown",
   "metadata": {
    "button": false,
    "new_sheet": false,
    "run_control": {
     "read_only": false
    }
   },
   "source": [
    "### Import libraries\n",
    "Lets first import the required libraries.\n",
    "Also run <b> %matplotlib inline </b> since we will be plotting in this section."
   ]
  },
  {
   "cell_type": "code",
   "execution_count": 1,
   "metadata": {
    "button": false,
    "new_sheet": false,
    "run_control": {
     "read_only": false
    }
   },
   "outputs": [],
   "source": [
    "import numpy as np \n",
    "import matplotlib.pyplot as plt \n",
    "from sklearn.cluster import KMeans \n",
    "%matplotlib inline"
   ]
  },
  {
   "cell_type": "markdown",
   "metadata": {
    "button": false,
    "new_sheet": false,
    "run_control": {
     "read_only": false
    }
   },
   "source": [
    "<h1 id=\"random_generated_dataset\">k-Means on a randomly generated dataset</h1>\n",
    "Lets create our own dataset for this lab!\n"
   ]
  },
  {
   "cell_type": "markdown",
   "metadata": {
    "button": false,
    "new_sheet": false,
    "run_control": {
     "read_only": false
    }
   },
   "source": [
    "First we need to set up a random seed. Use <b>numpy's random.seed()</b> function, where the seed will be set to <b>0</b>"
   ]
  },
  {
   "cell_type": "markdown",
   "metadata": {
    "button": false,
    "new_sheet": false,
    "run_control": {
     "read_only": false
    }
   },
   "source": [
    "<h1 id=\"customer_segmentation_K_means\">Customer Segmentation with K-Means</h1>\n",
    "Imagine that you have a customer dataset, and you need to apply customer segmentation on this historical data.\n",
    "Customer segmentation is the practice of partitioning a customer base into groups of individuals that have similar characteristics. It is a significant strategy as a business can target these specific groups of customers and effectively allocate marketing resources. For example, one group might contain customers who are high-profit and low-risk, that is, more likely to purchase products, or subscribe for a service. A business task is to retaining those customers. Another group might include customers from non-profit organizations. And so on.\n",
    "\n",
    "https://s3-api.us-geo.objectstorage.softlayer.net/cf-courses-data/CognitiveClass/ML0101ENv3/labs/Cust_Segmentation.csv"
   ]
  },
  {
   "cell_type": "markdown",
   "metadata": {
    "button": false,
    "new_sheet": false,
    "run_control": {
     "read_only": false
    }
   },
   "source": [
    "### Load Data From CSV File  \n",
    "Before you can work with the data, you must use the URL to get the Cust_Segmentation.csv."
   ]
  },
  {
   "cell_type": "code",
   "execution_count": 2,
   "metadata": {
    "button": false,
    "jupyter": {
     "outputs_hidden": false
    },
    "new_sheet": false,
    "run_control": {
     "read_only": false
    }
   },
   "outputs": [
    {
     "data": {
      "text/html": [
       "<div>\n",
       "<style scoped>\n",
       "    .dataframe tbody tr th:only-of-type {\n",
       "        vertical-align: middle;\n",
       "    }\n",
       "\n",
       "    .dataframe tbody tr th {\n",
       "        vertical-align: top;\n",
       "    }\n",
       "\n",
       "    .dataframe thead th {\n",
       "        text-align: right;\n",
       "    }\n",
       "</style>\n",
       "<table border=\"1\" class=\"dataframe\">\n",
       "  <thead>\n",
       "    <tr style=\"text-align: right;\">\n",
       "      <th></th>\n",
       "      <th>Customer Id</th>\n",
       "      <th>Age</th>\n",
       "      <th>Edu</th>\n",
       "      <th>Years Employed</th>\n",
       "      <th>Income</th>\n",
       "      <th>Card Debt</th>\n",
       "      <th>Other Debt</th>\n",
       "      <th>Defaulted</th>\n",
       "      <th>Address</th>\n",
       "      <th>DebtIncomeRatio</th>\n",
       "    </tr>\n",
       "  </thead>\n",
       "  <tbody>\n",
       "    <tr>\n",
       "      <th>0</th>\n",
       "      <td>1</td>\n",
       "      <td>41</td>\n",
       "      <td>2</td>\n",
       "      <td>6</td>\n",
       "      <td>19</td>\n",
       "      <td>0.124</td>\n",
       "      <td>1.073</td>\n",
       "      <td>0.0</td>\n",
       "      <td>NBA001</td>\n",
       "      <td>6.3</td>\n",
       "    </tr>\n",
       "    <tr>\n",
       "      <th>1</th>\n",
       "      <td>2</td>\n",
       "      <td>47</td>\n",
       "      <td>1</td>\n",
       "      <td>26</td>\n",
       "      <td>100</td>\n",
       "      <td>4.582</td>\n",
       "      <td>8.218</td>\n",
       "      <td>0.0</td>\n",
       "      <td>NBA021</td>\n",
       "      <td>12.8</td>\n",
       "    </tr>\n",
       "    <tr>\n",
       "      <th>2</th>\n",
       "      <td>3</td>\n",
       "      <td>33</td>\n",
       "      <td>2</td>\n",
       "      <td>10</td>\n",
       "      <td>57</td>\n",
       "      <td>6.111</td>\n",
       "      <td>5.802</td>\n",
       "      <td>1.0</td>\n",
       "      <td>NBA013</td>\n",
       "      <td>20.9</td>\n",
       "    </tr>\n",
       "    <tr>\n",
       "      <th>3</th>\n",
       "      <td>4</td>\n",
       "      <td>29</td>\n",
       "      <td>2</td>\n",
       "      <td>4</td>\n",
       "      <td>19</td>\n",
       "      <td>0.681</td>\n",
       "      <td>0.516</td>\n",
       "      <td>0.0</td>\n",
       "      <td>NBA009</td>\n",
       "      <td>6.3</td>\n",
       "    </tr>\n",
       "    <tr>\n",
       "      <th>4</th>\n",
       "      <td>5</td>\n",
       "      <td>47</td>\n",
       "      <td>1</td>\n",
       "      <td>31</td>\n",
       "      <td>253</td>\n",
       "      <td>9.308</td>\n",
       "      <td>8.908</td>\n",
       "      <td>0.0</td>\n",
       "      <td>NBA008</td>\n",
       "      <td>7.2</td>\n",
       "    </tr>\n",
       "  </tbody>\n",
       "</table>\n",
       "</div>"
      ],
      "text/plain": [
       "   Customer Id  Age  Edu  Years Employed  Income  Card Debt  Other Debt  \\\n",
       "0            1   41    2               6      19      0.124       1.073   \n",
       "1            2   47    1              26     100      4.582       8.218   \n",
       "2            3   33    2              10      57      6.111       5.802   \n",
       "3            4   29    2               4      19      0.681       0.516   \n",
       "4            5   47    1              31     253      9.308       8.908   \n",
       "\n",
       "   Defaulted Address  DebtIncomeRatio  \n",
       "0        0.0  NBA001              6.3  \n",
       "1        0.0  NBA021             12.8  \n",
       "2        1.0  NBA013             20.9  \n",
       "3        0.0  NBA009              6.3  \n",
       "4        0.0  NBA008              7.2  "
      ]
     },
     "execution_count": 2,
     "metadata": {},
     "output_type": "execute_result"
    }
   ],
   "source": [
    "import pandas as pd\n",
    "cust_df = pd.read_csv(\"D:\\My Documents\\Machine Learning\\DataSets/Cust_Segmentation.csv\")\n",
    "cust_df.head()"
   ]
  },
  {
   "cell_type": "markdown",
   "metadata": {},
   "source": [
    "<h2 id=\"pre_processing\">Pre-processing</h2"
   ]
  },
  {
   "cell_type": "markdown",
   "metadata": {
    "button": false,
    "new_sheet": false,
    "run_control": {
     "read_only": false
    }
   },
   "source": [
    "As you can see, __Address__ in this dataset is a categorical variable. k-means algorithm isn't directly applicable to categorical variables because Euclidean distance function isn't really meaningful for discrete variables. So, lets drop this feature and run clustering."
   ]
  },
  {
   "cell_type": "code",
   "execution_count": 3,
   "metadata": {
    "button": false,
    "jupyter": {
     "outputs_hidden": false
    },
    "new_sheet": false,
    "run_control": {
     "read_only": false
    }
   },
   "outputs": [
    {
     "data": {
      "text/html": [
       "<div>\n",
       "<style scoped>\n",
       "    .dataframe tbody tr th:only-of-type {\n",
       "        vertical-align: middle;\n",
       "    }\n",
       "\n",
       "    .dataframe tbody tr th {\n",
       "        vertical-align: top;\n",
       "    }\n",
       "\n",
       "    .dataframe thead th {\n",
       "        text-align: right;\n",
       "    }\n",
       "</style>\n",
       "<table border=\"1\" class=\"dataframe\">\n",
       "  <thead>\n",
       "    <tr style=\"text-align: right;\">\n",
       "      <th></th>\n",
       "      <th>Customer Id</th>\n",
       "      <th>Age</th>\n",
       "      <th>Edu</th>\n",
       "      <th>Years Employed</th>\n",
       "      <th>Income</th>\n",
       "      <th>Card Debt</th>\n",
       "      <th>Other Debt</th>\n",
       "      <th>Defaulted</th>\n",
       "      <th>DebtIncomeRatio</th>\n",
       "    </tr>\n",
       "  </thead>\n",
       "  <tbody>\n",
       "    <tr>\n",
       "      <th>0</th>\n",
       "      <td>1</td>\n",
       "      <td>41</td>\n",
       "      <td>2</td>\n",
       "      <td>6</td>\n",
       "      <td>19</td>\n",
       "      <td>0.124</td>\n",
       "      <td>1.073</td>\n",
       "      <td>0.0</td>\n",
       "      <td>6.3</td>\n",
       "    </tr>\n",
       "    <tr>\n",
       "      <th>1</th>\n",
       "      <td>2</td>\n",
       "      <td>47</td>\n",
       "      <td>1</td>\n",
       "      <td>26</td>\n",
       "      <td>100</td>\n",
       "      <td>4.582</td>\n",
       "      <td>8.218</td>\n",
       "      <td>0.0</td>\n",
       "      <td>12.8</td>\n",
       "    </tr>\n",
       "    <tr>\n",
       "      <th>2</th>\n",
       "      <td>3</td>\n",
       "      <td>33</td>\n",
       "      <td>2</td>\n",
       "      <td>10</td>\n",
       "      <td>57</td>\n",
       "      <td>6.111</td>\n",
       "      <td>5.802</td>\n",
       "      <td>1.0</td>\n",
       "      <td>20.9</td>\n",
       "    </tr>\n",
       "    <tr>\n",
       "      <th>3</th>\n",
       "      <td>4</td>\n",
       "      <td>29</td>\n",
       "      <td>2</td>\n",
       "      <td>4</td>\n",
       "      <td>19</td>\n",
       "      <td>0.681</td>\n",
       "      <td>0.516</td>\n",
       "      <td>0.0</td>\n",
       "      <td>6.3</td>\n",
       "    </tr>\n",
       "    <tr>\n",
       "      <th>4</th>\n",
       "      <td>5</td>\n",
       "      <td>47</td>\n",
       "      <td>1</td>\n",
       "      <td>31</td>\n",
       "      <td>253</td>\n",
       "      <td>9.308</td>\n",
       "      <td>8.908</td>\n",
       "      <td>0.0</td>\n",
       "      <td>7.2</td>\n",
       "    </tr>\n",
       "  </tbody>\n",
       "</table>\n",
       "</div>"
      ],
      "text/plain": [
       "   Customer Id  Age  Edu  Years Employed  Income  Card Debt  Other Debt  \\\n",
       "0            1   41    2               6      19      0.124       1.073   \n",
       "1            2   47    1              26     100      4.582       8.218   \n",
       "2            3   33    2              10      57      6.111       5.802   \n",
       "3            4   29    2               4      19      0.681       0.516   \n",
       "4            5   47    1              31     253      9.308       8.908   \n",
       "\n",
       "   Defaulted  DebtIncomeRatio  \n",
       "0        0.0              6.3  \n",
       "1        0.0             12.8  \n",
       "2        1.0             20.9  \n",
       "3        0.0              6.3  \n",
       "4        0.0              7.2  "
      ]
     },
     "execution_count": 3,
     "metadata": {},
     "output_type": "execute_result"
    }
   ],
   "source": [
    "df = cust_df.drop('Address', axis=1)\n",
    "df.head()"
   ]
  },
  {
   "cell_type": "code",
   "execution_count": 4,
   "metadata": {},
   "outputs": [
    {
     "data": {
      "text/html": [
       "<div>\n",
       "<style scoped>\n",
       "    .dataframe tbody tr th:only-of-type {\n",
       "        vertical-align: middle;\n",
       "    }\n",
       "\n",
       "    .dataframe tbody tr th {\n",
       "        vertical-align: top;\n",
       "    }\n",
       "\n",
       "    .dataframe thead th {\n",
       "        text-align: right;\n",
       "    }\n",
       "</style>\n",
       "<table border=\"1\" class=\"dataframe\">\n",
       "  <thead>\n",
       "    <tr style=\"text-align: right;\">\n",
       "      <th></th>\n",
       "      <th>Customer Id</th>\n",
       "      <th>Age</th>\n",
       "      <th>Edu</th>\n",
       "      <th>Years Employed</th>\n",
       "      <th>Income</th>\n",
       "      <th>Card Debt</th>\n",
       "      <th>Other Debt</th>\n",
       "      <th>Defaulted</th>\n",
       "      <th>Address</th>\n",
       "      <th>DebtIncomeRatio</th>\n",
       "    </tr>\n",
       "  </thead>\n",
       "  <tbody>\n",
       "    <tr>\n",
       "      <th>0</th>\n",
       "      <td>1</td>\n",
       "      <td>41</td>\n",
       "      <td>2</td>\n",
       "      <td>6</td>\n",
       "      <td>19</td>\n",
       "      <td>0.124</td>\n",
       "      <td>1.073</td>\n",
       "      <td>0.0</td>\n",
       "      <td>NBA001</td>\n",
       "      <td>6.3</td>\n",
       "    </tr>\n",
       "    <tr>\n",
       "      <th>1</th>\n",
       "      <td>2</td>\n",
       "      <td>47</td>\n",
       "      <td>1</td>\n",
       "      <td>26</td>\n",
       "      <td>100</td>\n",
       "      <td>4.582</td>\n",
       "      <td>8.218</td>\n",
       "      <td>0.0</td>\n",
       "      <td>NBA021</td>\n",
       "      <td>12.8</td>\n",
       "    </tr>\n",
       "    <tr>\n",
       "      <th>2</th>\n",
       "      <td>3</td>\n",
       "      <td>33</td>\n",
       "      <td>2</td>\n",
       "      <td>10</td>\n",
       "      <td>57</td>\n",
       "      <td>6.111</td>\n",
       "      <td>5.802</td>\n",
       "      <td>1.0</td>\n",
       "      <td>NBA013</td>\n",
       "      <td>20.9</td>\n",
       "    </tr>\n",
       "    <tr>\n",
       "      <th>3</th>\n",
       "      <td>4</td>\n",
       "      <td>29</td>\n",
       "      <td>2</td>\n",
       "      <td>4</td>\n",
       "      <td>19</td>\n",
       "      <td>0.681</td>\n",
       "      <td>0.516</td>\n",
       "      <td>0.0</td>\n",
       "      <td>NBA009</td>\n",
       "      <td>6.3</td>\n",
       "    </tr>\n",
       "    <tr>\n",
       "      <th>4</th>\n",
       "      <td>5</td>\n",
       "      <td>47</td>\n",
       "      <td>1</td>\n",
       "      <td>31</td>\n",
       "      <td>253</td>\n",
       "      <td>9.308</td>\n",
       "      <td>8.908</td>\n",
       "      <td>0.0</td>\n",
       "      <td>NBA008</td>\n",
       "      <td>7.2</td>\n",
       "    </tr>\n",
       "  </tbody>\n",
       "</table>\n",
       "</div>"
      ],
      "text/plain": [
       "   Customer Id  Age  Edu  Years Employed  Income  Card Debt  Other Debt  \\\n",
       "0            1   41    2               6      19      0.124       1.073   \n",
       "1            2   47    1              26     100      4.582       8.218   \n",
       "2            3   33    2              10      57      6.111       5.802   \n",
       "3            4   29    2               4      19      0.681       0.516   \n",
       "4            5   47    1              31     253      9.308       8.908   \n",
       "\n",
       "   Defaulted Address  DebtIncomeRatio  \n",
       "0        0.0  NBA001              6.3  \n",
       "1        0.0  NBA021             12.8  \n",
       "2        1.0  NBA013             20.9  \n",
       "3        0.0  NBA009              6.3  \n",
       "4        0.0  NBA008              7.2  "
      ]
     },
     "execution_count": 4,
     "metadata": {},
     "output_type": "execute_result"
    }
   ],
   "source": [
    "cust_df.head()"
   ]
  },
  {
   "cell_type": "markdown",
   "metadata": {
    "button": false,
    "new_sheet": false,
    "run_control": {
     "read_only": false
    }
   },
   "source": [
    "#### Normalizing over the standard deviation\n",
    "Now let's normalize the dataset. But why do we need normalization in the first place? Normalization is a statistical method that helps mathematical-based algorithms to interpret features with different magnitudes and distributions equally. We use __StandardScaler()__ to normalize our dataset."
   ]
  },
  {
   "cell_type": "code",
   "execution_count": 5,
   "metadata": {
    "button": false,
    "jupyter": {
     "outputs_hidden": false
    },
    "new_sheet": false,
    "run_control": {
     "read_only": false
    }
   },
   "outputs": [
    {
     "data": {
      "text/plain": [
       "array([[41.   ,  2.   ,  6.   , ...,  1.073,  0.   ,  6.3  ],\n",
       "       [47.   ,  1.   , 26.   , ...,  8.218,  0.   , 12.8  ],\n",
       "       [33.   ,  2.   , 10.   , ...,  5.802,  1.   , 20.9  ],\n",
       "       ...,\n",
       "       [25.   ,  4.   ,  0.   , ...,  3.21 ,  1.   , 33.4  ],\n",
       "       [32.   ,  1.   , 12.   , ...,  0.696,  0.   ,  2.9  ],\n",
       "       [52.   ,  1.   , 16.   , ...,  3.638,  0.   ,  8.6  ]])"
      ]
     },
     "execution_count": 5,
     "metadata": {},
     "output_type": "execute_result"
    }
   ],
   "source": [
    "from sklearn.preprocessing import StandardScaler\n",
    "X = df.values[:,1:]# [allrows,1stcol :till end]\n",
    "X"
   ]
  },
  {
   "cell_type": "code",
   "execution_count": 6,
   "metadata": {},
   "outputs": [
    {
     "data": {
      "text/plain": [
       "array([[ 0.74291541,  0.31212243, -0.37878978, ..., -0.59048916,\n",
       "        -0.52379654, -0.57652509],\n",
       "       [ 1.48949049, -0.76634938,  2.5737211 , ...,  1.51296181,\n",
       "        -0.52379654,  0.39138677],\n",
       "       [-0.25251804,  0.31212243,  0.2117124 , ...,  0.80170393,\n",
       "         1.90913822,  1.59755385],\n",
       "       ...,\n",
       "       [-1.24795149,  2.46906604, -1.26454304, ...,  0.03863257,\n",
       "         1.90913822,  3.45892281],\n",
       "       [-0.37694723, -0.76634938,  0.50696349, ..., -0.70147601,\n",
       "        -0.52379654, -1.08281745],\n",
       "       [ 2.1116364 , -0.76634938,  1.09746566, ...,  0.16463355,\n",
       "        -0.52379654, -0.2340332 ]])"
      ]
     },
     "execution_count": 6,
     "metadata": {},
     "output_type": "execute_result"
    }
   ],
   "source": [
    "X = np.nan_to_num(X)\n",
    "\n",
    "Clus_dataSet = StandardScaler().fit_transform(X)\n",
    "Clus_dataSet"
   ]
  },
  {
   "cell_type": "markdown",
   "metadata": {},
   "source": [
    "<h2 id=\"modeling\">Modeling</h2>"
   ]
  },
  {
   "cell_type": "markdown",
   "metadata": {
    "button": false,
    "new_sheet": false,
    "run_control": {
     "read_only": false
    }
   },
   "source": [
    "In our example (if we didn't have access to the k-means algorithm), it would be the same as guessing that each customer group would have certain age, income, education, etc, with multiple tests and experiments. However, using the K-means clustering we can do all this process much easier.\n",
    "\n",
    "Lets apply k-means on our dataset, and take look at cluster labels."
   ]
  },
  {
   "cell_type": "code",
   "execution_count": 48,
   "metadata": {
    "button": false,
    "jupyter": {
     "outputs_hidden": false
    },
    "new_sheet": false,
    "run_control": {
     "read_only": false
    }
   },
   "outputs": [
    {
     "name": "stdout",
     "output_type": "stream",
     "text": [
      "[0 3 2 0 1 2 2 2 0 3 2 0 0 0 0 0 0 0 2 0 0 0 0 2 3 2 0 0 2 0 3 2 0 0 0 0 0\n",
      " 0 0 3 0 3 0 3 0 2 0 0 0 2 2 0 0 2 2 0 0 0 2 0 2 0 2 2 0 0 2 0 0 0 2 2 3 0\n",
      " 0 0 2 0 3 2 2 2 3 0 2 0 0 0 0 0 2 0 0 0 0 2 0 0 0 0 0 3 2 2 0 2 0 0 2 2 2\n",
      " 0 0 0 0 0 0 2 2 0 0 0 0 2 0 2 0 0 0 0 0 2 0 0 0 0 2 0 0 0 0 0 0 0 2 0 2 0\n",
      " 0 0 0 0 0 0 2 0 3 3 0 2 0 0 2 2 0 0 2 0 0 2 2 0 0 0 0 0 2 0 0 2 2 0 0 3 0\n",
      " 0 0 0 0 2 0 0 2 0 2 0 0 2 1 0 3 0 0 0 0 2 0 1 3 0 0 2 2 2 0 0 2 2 2 2 0 3\n",
      " 0 0 0 0 3 0 0 2 0 0 2 0 2 0 0 0 2 0 0 0 0 0 0 3 2 2 0 0 0 0 0 0 2 0 0 0 0\n",
      " 0 0 2 2 2 2 0 0 2 0 0 0 0 0 2 0 0 0 2 0 0 0 3 3 0 3 0 2 0 3 2 0 0 0 0 0 0\n",
      " 0 0 0 2 2 2 0 0 0 2 2 0 0 0 2 0 0 0 2 0 0 0 0 0 2 0 3 0 0 2 0 0 3 2 2 3 0\n",
      " 0 2 0 0 2 0 2 0 2 0 0 2 0 0 2 0 0 3 0 0 0 0 0 3 0 0 0 3 0 0 0 2 0 2 3 3 2\n",
      " 0 0 2 0 0 0 0 0 0 0 0 0 0 0 3 0 2 0 0 0 0 2 0 0 0 0 0 3 0 0 0 0 0 0 0 2 0\n",
      " 2 3 0 0 2 0 0 0 0 2 0 2 0 2 2 0 0 2 0 0 0 0 0 2 0 0 0 2 0 0 0 2 2 2 0 0 1\n",
      " 2 0 2 2 2 0 2 0 0 0 3 0 0 0 0 2 0 3 0 0 0 0 2 0 2 2 2 0 2 3 2 0 2 0 0 0 2\n",
      " 0 2 0 0 0 0 3 0 0 0 2 0 2 0 0 0 2 2 0 0 0 3 3 0 0 0 0 2 0 0 0 0 3 2 0 0 0\n",
      " 0 2 2 0 0 0 0 0 0 2 0 0 0 0 1 2 0 0 0 0 0 0 3 0 0 0 2 2 2 0 3 0 2 1 0 3 0\n",
      " 0 1 0 0 0 2 2 0 2 0 2 2 0 2 0 0 1 0 0 2 0 0 0 0 2 2 0 0 2 2 0 0 0 0 2 0 2\n",
      " 2 0 0 0 0 0 2 0 0 2 0 2 0 2 0 0 0 0 0 0 0 0 2 0 0 0 0 0 2 0 0 0 0 0 0 0 2\n",
      " 3 0 0 2 2 3 0 0 2 0 2 0 0 3 0 2 2 3 0 0 0 0 0 3 2 0 0 0 2 2 0 0 2 2 3 0 2\n",
      " 2 0 0 0 2 2 1 0 0 3 0 2 0 0 0 0 0 3 0 2 0 2 0 0 0 0 0 2 0 0 2 0 0 0 0 0 0\n",
      " 0 0 2 0 0 2 0 3 0 2 3 0 0 0 3 2 2 0 0 0 0 2 3 0 0 0 0 2 2 0 0 3 2 0 2 0 2\n",
      " 0 2 0 0 0 2 3 0 0 0 0 0 0 0 0 0 0 0 2 0 3 2 0 2 0 2 2 0 0 2 0 0 0 0 0 2 2\n",
      " 0 0 0 0 0 0 0 2 0 2 0 0 0 2 1 2 2 0 0 0 0 0 0 0 3 0 0 0 0 2 2 2 0 0 0 0 2\n",
      " 0 0 0 0 0 0 0 0 0 0 0 3 2 0 0 0 2 0 0 0 0 0 0 0 0 0 0 2 0 0 0 0 0 0 0 2]\n"
     ]
    }
   ],
   "source": [
    "clusterNum = 4\n",
    "k_means = KMeans(init = \"k-means++\", n_clusters = clusterNum, n_init = 100)\n",
    "k_means.fit(X)#training \n",
    "labels = k_means.labels_\n",
    "print(labels)\n",
    "#300 300 (0,1,2)"
   ]
  },
  {
   "cell_type": "markdown",
   "metadata": {
    "button": false,
    "new_sheet": false,
    "run_control": {
     "read_only": false
    }
   },
   "source": [
    "<h2 id=\"insights\">Insights</h2>\n",
    "We assign the labels to each row in dataframe."
   ]
  },
  {
   "cell_type": "code",
   "execution_count": 49,
   "metadata": {
    "button": false,
    "jupyter": {
     "outputs_hidden": false
    },
    "new_sheet": false,
    "run_control": {
     "read_only": false
    }
   },
   "outputs": [
    {
     "data": {
      "text/html": [
       "<div>\n",
       "<style scoped>\n",
       "    .dataframe tbody tr th:only-of-type {\n",
       "        vertical-align: middle;\n",
       "    }\n",
       "\n",
       "    .dataframe tbody tr th {\n",
       "        vertical-align: top;\n",
       "    }\n",
       "\n",
       "    .dataframe thead th {\n",
       "        text-align: right;\n",
       "    }\n",
       "</style>\n",
       "<table border=\"1\" class=\"dataframe\">\n",
       "  <thead>\n",
       "    <tr style=\"text-align: right;\">\n",
       "      <th></th>\n",
       "      <th>Age</th>\n",
       "      <th>Edu</th>\n",
       "      <th>Years Employed</th>\n",
       "      <th>Income</th>\n",
       "      <th>Card Debt</th>\n",
       "      <th>Other Debt</th>\n",
       "      <th>Defaulted</th>\n",
       "      <th>DebtIncomeRatio</th>\n",
       "      <th>Class Example Belongs to</th>\n",
       "    </tr>\n",
       "  </thead>\n",
       "  <tbody>\n",
       "    <tr>\n",
       "      <th>0</th>\n",
       "      <td>41</td>\n",
       "      <td>2</td>\n",
       "      <td>6</td>\n",
       "      <td>19</td>\n",
       "      <td>0.124</td>\n",
       "      <td>1.073</td>\n",
       "      <td>0.0</td>\n",
       "      <td>6.3</td>\n",
       "      <td>0</td>\n",
       "    </tr>\n",
       "    <tr>\n",
       "      <th>1</th>\n",
       "      <td>47</td>\n",
       "      <td>1</td>\n",
       "      <td>26</td>\n",
       "      <td>100</td>\n",
       "      <td>4.582</td>\n",
       "      <td>8.218</td>\n",
       "      <td>0.0</td>\n",
       "      <td>12.8</td>\n",
       "      <td>3</td>\n",
       "    </tr>\n",
       "    <tr>\n",
       "      <th>2</th>\n",
       "      <td>33</td>\n",
       "      <td>2</td>\n",
       "      <td>10</td>\n",
       "      <td>57</td>\n",
       "      <td>6.111</td>\n",
       "      <td>5.802</td>\n",
       "      <td>1.0</td>\n",
       "      <td>20.9</td>\n",
       "      <td>2</td>\n",
       "    </tr>\n",
       "    <tr>\n",
       "      <th>3</th>\n",
       "      <td>29</td>\n",
       "      <td>2</td>\n",
       "      <td>4</td>\n",
       "      <td>19</td>\n",
       "      <td>0.681</td>\n",
       "      <td>0.516</td>\n",
       "      <td>0.0</td>\n",
       "      <td>6.3</td>\n",
       "      <td>0</td>\n",
       "    </tr>\n",
       "    <tr>\n",
       "      <th>4</th>\n",
       "      <td>47</td>\n",
       "      <td>1</td>\n",
       "      <td>31</td>\n",
       "      <td>253</td>\n",
       "      <td>9.308</td>\n",
       "      <td>8.908</td>\n",
       "      <td>0.0</td>\n",
       "      <td>7.2</td>\n",
       "      <td>1</td>\n",
       "    </tr>\n",
       "  </tbody>\n",
       "</table>\n",
       "</div>"
      ],
      "text/plain": [
       "   Age  Edu  Years Employed  Income  Card Debt  Other Debt  Defaulted  \\\n",
       "0   41    2               6      19      0.124       1.073        0.0   \n",
       "1   47    1              26     100      4.582       8.218        0.0   \n",
       "2   33    2              10      57      6.111       5.802        1.0   \n",
       "3   29    2               4      19      0.681       0.516        0.0   \n",
       "4   47    1              31     253      9.308       8.908        0.0   \n",
       "\n",
       "   DebtIncomeRatio  Class Example Belongs to  \n",
       "0              6.3                         0  \n",
       "1             12.8                         3  \n",
       "2             20.9                         2  \n",
       "3              6.3                         0  \n",
       "4              7.2                         1  "
      ]
     },
     "execution_count": 49,
     "metadata": {},
     "output_type": "execute_result"
    }
   ],
   "source": [
    "df[\"Class Example Belongs to\"] = labels\n",
    "df.head()"
   ]
  },
  {
   "cell_type": "code",
   "execution_count": 50,
   "metadata": {},
   "outputs": [],
   "source": [
    "#df.drop(['Customer Id'],axis = 1, inplace = True)"
   ]
  },
  {
   "cell_type": "markdown",
   "metadata": {
    "button": false,
    "new_sheet": false,
    "run_control": {
     "read_only": false
    }
   },
   "source": [
    "We can easily check the centroid values by averaging the features in each cluster."
   ]
  },
  {
   "cell_type": "code",
   "execution_count": 51,
   "metadata": {
    "button": false,
    "jupyter": {
     "outputs_hidden": false
    },
    "new_sheet": false,
    "run_control": {
     "read_only": false
    }
   },
   "outputs": [
    {
     "data": {
      "text/html": [
       "<div>\n",
       "<style scoped>\n",
       "    .dataframe tbody tr th:only-of-type {\n",
       "        vertical-align: middle;\n",
       "    }\n",
       "\n",
       "    .dataframe tbody tr th {\n",
       "        vertical-align: top;\n",
       "    }\n",
       "\n",
       "    .dataframe thead th {\n",
       "        text-align: right;\n",
       "    }\n",
       "</style>\n",
       "<table border=\"1\" class=\"dataframe\">\n",
       "  <thead>\n",
       "    <tr style=\"text-align: right;\">\n",
       "      <th></th>\n",
       "      <th>Age</th>\n",
       "      <th>Edu</th>\n",
       "      <th>Years Employed</th>\n",
       "      <th>Income</th>\n",
       "      <th>Card Debt</th>\n",
       "      <th>Other Debt</th>\n",
       "      <th>Defaulted</th>\n",
       "      <th>DebtIncomeRatio</th>\n",
       "    </tr>\n",
       "    <tr>\n",
       "      <th>Class Example Belongs to</th>\n",
       "      <th></th>\n",
       "      <th></th>\n",
       "      <th></th>\n",
       "      <th></th>\n",
       "      <th></th>\n",
       "      <th></th>\n",
       "      <th></th>\n",
       "      <th></th>\n",
       "    </tr>\n",
       "  </thead>\n",
       "  <tbody>\n",
       "    <tr>\n",
       "      <th>0</th>\n",
       "      <td>32.037634</td>\n",
       "      <td>1.611111</td>\n",
       "      <td>5.451613</td>\n",
       "      <td>28.016129</td>\n",
       "      <td>0.924932</td>\n",
       "      <td>1.894054</td>\n",
       "      <td>0.295259</td>\n",
       "      <td>10.112366</td>\n",
       "    </tr>\n",
       "    <tr>\n",
       "      <th>1</th>\n",
       "      <td>46.600000</td>\n",
       "      <td>2.300000</td>\n",
       "      <td>21.200000</td>\n",
       "      <td>270.900000</td>\n",
       "      <td>7.884000</td>\n",
       "      <td>13.375200</td>\n",
       "      <td>0.428571</td>\n",
       "      <td>8.210000</td>\n",
       "    </tr>\n",
       "    <tr>\n",
       "      <th>2</th>\n",
       "      <td>39.737557</td>\n",
       "      <td>1.800905</td>\n",
       "      <td>12.909502</td>\n",
       "      <td>62.597285</td>\n",
       "      <td>2.314629</td>\n",
       "      <td>4.432747</td>\n",
       "      <td>0.203297</td>\n",
       "      <td>10.716742</td>\n",
       "    </tr>\n",
       "    <tr>\n",
       "      <th>3</th>\n",
       "      <td>43.442623</td>\n",
       "      <td>2.196721</td>\n",
       "      <td>19.245902</td>\n",
       "      <td>122.918033</td>\n",
       "      <td>3.832984</td>\n",
       "      <td>7.322721</td>\n",
       "      <td>0.127660</td>\n",
       "      <td>9.060656</td>\n",
       "    </tr>\n",
       "  </tbody>\n",
       "</table>\n",
       "</div>"
      ],
      "text/plain": [
       "                                Age       Edu  Years Employed      Income  \\\n",
       "Class Example Belongs to                                                    \n",
       "0                         32.037634  1.611111        5.451613   28.016129   \n",
       "1                         46.600000  2.300000       21.200000  270.900000   \n",
       "2                         39.737557  1.800905       12.909502   62.597285   \n",
       "3                         43.442623  2.196721       19.245902  122.918033   \n",
       "\n",
       "                          Card Debt  Other Debt  Defaulted  DebtIncomeRatio  \n",
       "Class Example Belongs to                                                     \n",
       "0                          0.924932    1.894054   0.295259        10.112366  \n",
       "1                          7.884000   13.375200   0.428571         8.210000  \n",
       "2                          2.314629    4.432747   0.203297        10.716742  \n",
       "3                          3.832984    7.322721   0.127660         9.060656  "
      ]
     },
     "execution_count": 51,
     "metadata": {},
     "output_type": "execute_result"
    }
   ],
   "source": [
    "\n",
    "df.groupby('Class Example Belongs to').mean()"
   ]
  },
  {
   "cell_type": "code",
   "execution_count": 52,
   "metadata": {},
   "outputs": [],
   "source": [
    "income = df['Income'].values"
   ]
  },
  {
   "cell_type": "code",
   "execution_count": 53,
   "metadata": {},
   "outputs": [],
   "source": [
    "Age = df['Age'].values"
   ]
  },
  {
   "cell_type": "code",
   "execution_count": 54,
   "metadata": {},
   "outputs": [
    {
     "data": {
      "text/plain": [
       "array([ 19, 100,  57,  19, 253,  81,  56,  64,  18, 115,  88,  40,  18,\n",
       "        30,  20,  16,  17,  26,  61,  32,  25,  43,  47,  77, 123,  66,\n",
       "        21,  38,  59,  45, 100,  55,  42,  28,  45,  37,  37,  18,  18,\n",
       "       126,  14, 113,  34, 177,  27,  84,  14,  21,  19,  61,  81,  33,\n",
       "        19,  66,  70,  25,  20,  26,  64,  36,  60,  34,  67,  74,  20,\n",
       "        44,  79,  27,  23,  14,  61,  75,  98,  42,  33,  18,  45,  21,\n",
       "       145,  55,  68,  65, 157,  42,  51,  15,  25,  16,  31,  32,  75,\n",
       "        33,  21,  20,  27,  49,  27,  34,  28,  20,  33, 126,  60,  48,\n",
       "        22,  50,  32,  27,  54,  82,  53,  32,  39,  16,  23,  32,  18,\n",
       "        46,  63,  26,  21,  37,  32,  53,  42,  72,  47,  25,  21,  16,\n",
       "        36,  57,  25,  23,  25,  29,  86,  19,  31,  35,  41,  21,  40,\n",
       "        23,  68,  30,  58,  43,  42,  26,  37,  41,  31,  21,  65,  37,\n",
       "       113, 101,  24,  59,  20,  39,  82,  47,  22,  32,  54,  27,  24,\n",
       "        45,  89,  20,  28,  45,  27,  27,  55,  22,  36,  89,  46,  40,\n",
       "        21, 129,  15,  45,  24,  24,  41,  73,  27,  30,  75,  31,  73,\n",
       "        30,  16,  64, 221,  26, 113,  21,  25,  21,  27,  44,  26, 242,\n",
       "        95,  23,  25,  48,  57,  78,  24,  16,  68,  64,  45,  60,  21,\n",
       "       116,  30,  23,  21,  23, 102,  31,  29,  52,  35,  28,  56,  15,\n",
       "        83,  18,  40,  15,  51,  34,  28,  39,  31,  32,  26, 169,  69,\n",
       "        54,  45,  26,  30,  37,  31,  21,  82,  41,  39,  19,  13,  26,\n",
       "        23,  92,  54,  50,  64,  40,  40,  63,  28,  38,  24,  24,  40,\n",
       "        47,  25,  17,  28,  55,  27,  28,  26, 150, 120,  14, 100,  24,\n",
       "        77,  31, 101,  58,  33,  43,  23,  39,  34,  22,  20,  30,  34,\n",
       "        91,  73,  64,  17,  24,  22,  62,  45,  16,  40,  41,  56,  17,\n",
       "        22,  15,  45,  17,  27,  27,  40,  23,  91,  30,  94,  23,  16,\n",
       "        56,  18,  18, 105,  48,  59, 113,  21,  31,  47,  24,  17,  70,\n",
       "        24,  44,  39,  56,  32,  20,  75,  41,  16,  75,  21,  33, 136,\n",
       "        27,  42,  33,  27,  33, 102,  30,  22,  18, 186,  20,  21,  29,\n",
       "        73,  16,  68, 126, 120,  54,  20,  33,  72,  27,  16,  25,  30,\n",
       "        42,  18,  14,  30,  20,  17,  23, 144,  32,  79,  21,  36,  25,\n",
       "        19,  57,  39,  41,  22,  44,  23, 132,  38,  23,  24,  19,  19,\n",
       "        18,  25,  52,  33,  51,  97,  29,  40,  60,  44,  22,  35,  35,\n",
       "        65,  24,  51,  25,  53,  63,  21,  30,  70,  35,  29,  28,  38,\n",
       "        19,  52,  32,  15,  18,  71,  25,  27,  24,  78,  46,  44,  37,\n",
       "        26, 249,  55,  42,  49,  54,  43,  42,  86,  29,  26,  21, 166,\n",
       "        30,  17,  28,  22,  60,  39, 176,  16,  29,  35,  19,  83,  23,\n",
       "        60,  59,  91,  36,  46,  96,  60,  23,  54,  27,  32,  21,  52,\n",
       "        33,  78,  17,  25,  32,  40, 100,  16,  25,  22,  89,  35,  63,\n",
       "        28,  25,  18,  72,  47,  18,  37,  29, 108, 107,  26,  44,  32,\n",
       "        35,  68,  29,  22,  38,  34, 120,  53,  31,  22,  38,  15,  63,\n",
       "        60,  35,  22,  18,  38,  20,  28,  48,  18,  17,  24,  31, 446,\n",
       "        93,  28,  45,  23,  29,  21,  43, 116,  38,  40,  39,  45,  89,\n",
       "        49,  23,  99,  20,  51, 266,  25, 159,  42,  21, 254,  15,  20,\n",
       "        21,  46,  52,  22,  56,  27,  48,  78,  23,  67,  20,  41, 220,\n",
       "        31,  21,  48,  29,  21,  26,  26,  50,  60,  41,  37,  46,  44,\n",
       "        27,  45,  32,  26,  64,  32,  86,  44,  36,  28,  23,  16,  18,\n",
       "        83,  37,  35,  51,  14,  75,  26,  57,  29,  29,  28,  38,  27,\n",
       "        26,  20,  36,  53,  43,  42,  30,  42,  34,  75,  27,  22,  22,\n",
       "        17,  32,  25,  16,  66, 140,  26,  28,  66,  52, 110,  22,  30,\n",
       "        80,  33,  79,  16,  19, 190,  30,  76,  56, 138,  22,  28,  34,\n",
       "        16,  28, 116,  71,  20,  30,  28,  50,  70,  46,  26,  57,  77,\n",
       "       114,  32,  53,  81,  24,  24,  33,  61,  47, 234,  15,  28, 121,\n",
       "        43,  52,  31,  33,  44,  17,  45,  94,  24,  44,  18,  69,  29,\n",
       "        21,  16,  36,  28,  59,  22,  46,  65,  27,  23,  15,  20,  39,\n",
       "        33,  20,  16,  73,  20,  20,  73,  21,  98,  28,  68, 118,  41,\n",
       "        22,  34, 135,  49,  78,  26,  32,  25,  35,  50, 148,  44,  31,\n",
       "        23,  39,  66,  75,  48,  43, 139,  61,  20,  55,  39,  47,  33,\n",
       "        80,  19,  32,  40,  50, 129,  42,  14,  40,  18,  26,  36,  28,\n",
       "        24,  26,  25,  18,  73,  29, 100,  58,  17,  69,  16,  70,  64,\n",
       "        40,  33,  76,  17,  25,  24,  37,  44,  62,  62,  33,  41,  30,\n",
       "        46,  43,  39,  38,  76,  30,  44,  32,  27,  39,  57, 324,  67,\n",
       "        84,  17,  25,  24,  35,  35,  24,  22, 101,  14,  23,  38,  19,\n",
       "        52,  54,  62,  19,  25,  17,  20,  49,  22,  36,  27,  26,  35,\n",
       "        40,  24,  38,  20,  25,  26, 116,  50,  26,  22,  37,  52,  18,\n",
       "        43,  30,  36,  41,  24,  22,  25,  22,  25,  63,  36,  45,  43,\n",
       "        26,  34,  18,  28,  64], dtype=int64)"
      ]
     },
     "execution_count": 54,
     "metadata": {},
     "output_type": "execute_result"
    }
   ],
   "source": [
    "income"
   ]
  },
  {
   "cell_type": "markdown",
   "metadata": {},
   "source": [
    "Now, lets look at the distribution of customers based on their age and income:"
   ]
  },
  {
   "cell_type": "code",
   "execution_count": 55,
   "metadata": {},
   "outputs": [
    {
     "data": {
      "text/plain": [
       "array([41, 47, 33, 29, 47, 40, 38, 42, 26, 47, 44, 34, 24, 46, 28, 24, 29,\n",
       "       43, 44, 36, 29, 36, 28, 45, 37, 43, 24, 37, 38, 34, 40, 42, 23, 40,\n",
       "       28, 33, 35, 37, 22, 39, 20, 48, 28, 37, 48, 45, 22, 30, 28, 29, 47,\n",
       "       36, 24, 56, 29, 34, 32, 27, 40, 50, 39, 34, 36, 44, 24, 31, 34, 26,\n",
       "       38, 24, 30, 40, 30, 25, 29, 33, 43, 35, 41, 46, 33, 30, 40, 38, 49,\n",
       "       26, 22, 29, 28, 23, 37, 35, 31, 29, 34, 47, 37, 38, 32, 22, 30, 38,\n",
       "       36, 44, 27, 47, 41, 25, 33, 42, 36, 25, 30, 24, 32, 39, 30, 33, 32,\n",
       "       33, 29, 28, 33, 39, 32, 46, 32, 28, 26, 27, 35, 35, 31, 32, 29, 35,\n",
       "       48, 24, 44, 40, 36, 23, 26, 30, 34, 28, 37, 46, 24, 25, 33, 46, 38,\n",
       "       47, 34, 35, 39, 44, 28, 31, 24, 36, 35, 31, 28, 36, 31, 30, 26, 48,\n",
       "       39, 31, 31, 27, 31, 53, 40, 26, 29, 52, 39, 33, 24, 47, 41, 26, 48,\n",
       "       37, 37, 46, 30, 47, 37, 37, 40, 35, 21, 52, 47, 41, 47, 38, 22, 39,\n",
       "       45, 51, 33, 43, 40, 27, 31, 34, 37, 44, 42, 25, 39, 26, 36, 48, 21,\n",
       "       40, 31, 23, 31, 31, 50, 29, 37, 46, 39, 34, 27, 23, 41, 29, 44, 24,\n",
       "       32, 23, 31, 36, 25, 26, 43, 47, 43, 37, 35, 28, 28, 26, 39, 34, 51,\n",
       "       28, 39, 23, 23, 21, 40, 26, 32, 29, 43, 55, 30, 38, 40, 43, 35, 24,\n",
       "       35, 39, 41, 28, 24, 40, 29, 26, 27, 50, 41, 26, 48, 35, 35, 23, 39,\n",
       "       38, 30, 44, 33, 34, 27, 30, 27, 29, 25, 41, 42, 38, 23, 33, 31, 37,\n",
       "       40, 31, 35, 38, 30, 30, 44, 29, 39, 26, 36, 31, 38, 38, 41, 41, 45,\n",
       "       24, 22, 34, 25, 29, 35, 39, 34, 44, 23, 46, 41, 52, 23, 48, 35, 53,\n",
       "       39, 37, 34, 49, 39, 42, 28, 27, 24, 34, 47, 26, 35, 31, 29, 44, 40,\n",
       "       36, 32, 21, 42, 37, 24, 24, 46, 28, 41, 46, 51, 36, 25, 27, 43, 53,\n",
       "       32, 36, 29, 35, 32, 25, 42, 25, 20, 50, 46, 33, 43, 30, 34, 37, 38,\n",
       "       32, 39, 31, 25, 31, 29, 45, 39, 34, 24, 30, 30, 27, 31, 47, 47, 45,\n",
       "       31, 45, 29, 36, 29, 39, 22, 46, 38, 37, 42, 36, 34, 38, 27, 35, 48,\n",
       "       45, 43, 54, 35, 28, 39, 43, 32, 22, 41, 34, 34, 31, 55, 40, 41, 43,\n",
       "       36, 51, 40, 27, 36, 38, 47, 33, 41, 33, 21, 34, 51, 36, 23, 34, 29,\n",
       "       46, 45, 41, 28, 37, 25, 48, 37, 32, 31, 48, 45, 41, 39, 41, 50, 22,\n",
       "       43, 33, 29, 24, 27, 37, 34, 22, 41, 32, 35, 41, 21, 23, 25, 40, 38,\n",
       "       49, 40, 29, 25, 33, 37, 24, 29, 28, 37, 47, 31, 28, 39, 33, 41, 29,\n",
       "       31, 28, 35, 54, 39, 46, 23, 28, 24, 41, 43, 27, 33, 28, 48, 35, 31,\n",
       "       42, 29, 36, 29, 31, 43, 41, 31, 31, 28, 35, 38, 40, 39, 38, 27, 49,\n",
       "       38, 43, 36, 37, 46, 22, 47, 47, 30, 51, 28, 50, 43, 46, 29, 26, 45,\n",
       "       39, 30, 41, 25, 34, 44, 25, 39, 26, 31, 40, 42, 23, 34, 28, 29, 29,\n",
       "       24, 53, 39, 28, 38, 39, 38, 34, 31, 40, 32, 35, 29, 44, 48, 41, 28,\n",
       "       29, 24, 25, 43, 45, 35, 34, 29, 32, 27, 39, 37, 31, 28, 27, 31, 31,\n",
       "       32, 29, 31, 32, 39, 27, 29, 31, 41, 30, 35, 38, 29, 37, 26, 27, 42,\n",
       "       45, 51, 36, 48, 45, 47, 26, 35, 50, 30, 49, 36, 24, 42, 28, 52, 39,\n",
       "       40, 29, 40, 27, 24, 26, 40, 50, 30, 26, 35, 37, 52, 24, 28, 29, 35,\n",
       "       54, 32, 32, 36, 31, 28, 34, 53, 50, 52, 30, 26, 42, 27, 41, 27, 32,\n",
       "       37, 29, 27, 50, 21, 41, 23, 45, 45, 33, 21, 40, 40, 56, 26, 29, 29,\n",
       "       39, 27, 25, 36, 35, 25, 21, 23, 32, 34, 38, 39, 46, 35, 33, 30, 54,\n",
       "       42, 28, 35, 41, 41, 53, 28, 35, 42, 33, 27, 48, 33, 37, 31, 35, 48,\n",
       "       34, 23, 41, 52, 39, 46, 33, 34, 34, 40, 45, 25, 31, 34, 45, 44, 35,\n",
       "       22, 26, 38, 27, 29, 29, 22, 47, 27, 24, 52, 26, 40, 33, 30, 39, 24,\n",
       "       27, 38, 36, 39, 43, 24, 21, 26, 43, 36, 43, 35, 34, 47, 48, 29, 36,\n",
       "       35, 39, 41, 29, 39, 33, 33, 39, 40, 53, 34, 29, 30, 38, 25, 26, 25,\n",
       "       29, 28, 48, 26, 36, 30, 41, 34, 25, 45, 22, 32, 21, 34, 31, 33, 40,\n",
       "       36, 30, 35, 36, 37, 32, 45, 27, 41, 32, 48, 50, 45, 33, 33, 27, 36,\n",
       "       30, 28, 21, 23, 23, 26, 31, 38, 29, 32, 32, 41, 27, 28, 25, 32, 52],\n",
       "      dtype=int64)"
      ]
     },
     "execution_count": 55,
     "metadata": {},
     "output_type": "execute_result"
    }
   ],
   "source": [
    "Age"
   ]
  },
  {
   "cell_type": "code",
   "execution_count": 56,
   "metadata": {},
   "outputs": [
    {
     "data": {
      "image/png": "[encoded data removed]",
      "text/plain": [
       "<Figure size 432x288 with 1 Axes>"
      ]
     },
     "metadata": {
      "needs_background": "light"
     },
     "output_type": "display_data"
    }
   ],
   "source": [
    "plt.scatter(Age,income, c=labels.astype(np.float), alpha=0.3)\n",
    "plt.xlabel('years empl', fontsize=8)\n",
    "plt.ylabel('Income', fontsize=10)\n",
    "\n",
    "plt.show()\n"
   ]
  },
  {
   "cell_type": "code",
   "execution_count": 57,
   "metadata": {
    "button": false,
    "jupyter": {
     "outputs_hidden": false
    },
    "new_sheet": false,
    "run_control": {
     "read_only": false
    }
   },
   "outputs": [
    {
     "data": {
      "image/png": "[encoded data removed]",
      "text/plain": [
       "<Figure size 432x288 with 1 Axes>"
      ]
     },
     "metadata": {
      "needs_background": "light"
     },
     "output_type": "display_data"
    }
   ],
   "source": [
    "#area = np.pi * ( X[:, 1])**2  \n",
    "plt.scatter(X[:, 0], X[:, 3], c=labels.astype(np.float), alpha=0.5)\n",
    "plt.xlabel('years empl', fontsize=18)\n",
    "plt.ylabel('Income', fontsize=16)\n",
    "\n",
    "plt.show()\n"
   ]
  },
  {
   "cell_type": "markdown",
   "metadata": {
    "button": false,
    "new_sheet": false,
    "run_control": {
     "read_only": false
    }
   },
   "source": [
    "k-means will partition your customers into mutually exclusive groups, for example, into 3 clusters. The customers in each cluster are similar to each other demographically.\n",
    "Now we can create a profile for each group, considering the common characteristics of each cluster. \n",
    "For example, the 3 clusters can be:\n",
    "\n",
    "- AFFLUENT, EDUCATED AND OLD AGED\n",
    "- MIDDLE AGED AND MIDDLE INCOME\n",
    "- YOUNG AND LOW INCOME"
   ]
  }
 ],
 "metadata": {
  "kernelspec": {
   "display_name": "Python 3",
   "language": "python",
   "name": "python3"
  },
  "language_info": {
   "codemirror_mode": {
    "name": "ipython",
    "version": 3
   },
   "file_extension": ".py",
   "mimetype": "text/x-python",
   "name": "python",
   "nbconvert_exporter": "python",
   "pygments_lexer": "ipython3",
   "version": "3.8.5"
  },
  "widgets": {
   "state": {},
   "version": "1.1.2"
  }
 },
 "nbformat": 4,
 "nbformat_minor": 4
}
